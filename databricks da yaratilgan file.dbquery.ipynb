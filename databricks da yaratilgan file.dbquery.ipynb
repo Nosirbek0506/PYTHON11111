{
 "cells": [
  {
   "cell_type": "code",
   "execution_count": 0,
   "metadata": {
    "application/vnd.databricks.v1+cell": {
     "cellMetadata": {
      "byteLimit": 10485760,
      "rowLimit": 1000
     },
     "inputWidgets": {},
     "nuid": "25bdeed3-69f9-431c-a5b7-db93ae34616a",
     "showTitle": false,
     "tableResultSettingsMap": {},
     "title": ""
    }
   },
   "outputs": [],
   "source": [
    "create database data_github;\n",
    "use data_github;\n",
    "create table gits\n",
    "(\n",
    "  id int,\n",
    "  github int,\n",
    "  repository string\n",
    ");\n",
    "insert into gits values \n",
    "(\n",
    "  1,122,\"python\",\n",
    "  2,2525,\"sql\",\n",
    "  3,281978,\"databricks\"\n",
    ");\n",
    "select * from gits;"
   ]
  }
 ],
 "metadata": {
  "application/vnd.databricks.v1+notebook": {
   "computePreferences": null,
   "dashboards": [],
   "environmentMetadata": null,
   "inputWidgetPreferences": null,
   "language": "sql",
   "notebookMetadata": {
    "pythonIndentUnit": 4,
    "sqlQueryOptions": {
     "applyAutoLimit": true,
     "catalog": "workspace",
     "schema": "mydatabricks"
    }
   },
   "notebookName": "databricks da yaratilgan file.dbquery.ipynb",
   "widgets": {}
  },
  "language_info": {
   "name": "sql"
  }
 },
 "nbformat": 4,
 "nbformat_minor": 0
}
